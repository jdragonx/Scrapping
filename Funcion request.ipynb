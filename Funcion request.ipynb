{
 "cells": [
  {
   "cell_type": "code",
   "execution_count": 1,
   "metadata": {},
   "outputs": [],
   "source": [
    "import requests\n",
    "from bs4 import BeautifulSoup"
   ]
  },
  {
   "cell_type": "code",
   "execution_count": 2,
   "metadata": {},
   "outputs": [
    {
     "name": "stdout",
     "output_type": "stream",
     "text": [
      "<Response [403]>\n"
     ]
    }
   ],
   "source": [
    "paginaScrapy = \"https://es.investing.com\"\n",
    "page = requests.get(paginaScrapy)\n",
    "print(page)"
   ]
  },
  {
   "cell_type": "code",
   "execution_count": 3,
   "metadata": {},
   "outputs": [
    {
     "name": "stdout",
     "output_type": "stream",
     "text": [
      "<Response [200]>\n"
     ]
    }
   ],
   "source": [
    "head = {\"User-Agent\": \"Mozilla/5.0 (Windows NT 10.0; Win64; x64) AppleWebKit/537.36 (KHTML, like Gecko) Chrome/84.0.4147.105 Safari/537.36\"}\n",
    "page = requests.get(paginaScrapy,headers=head)\n",
    "print(page)"
   ]
  },
  {
   "cell_type": "code",
   "execution_count": 4,
   "metadata": {},
   "outputs": [
    {
     "name": "stdout",
     "output_type": "stream",
     "text": [
      "<html><head><title>Laboratorio de Web Scraping - Jonathan Herrera</title></head></html>\n"
     ]
    }
   ],
   "source": [
    "soup = BeautifulSoup(\"<html><title>Laboratorio de Web Scraping - Jonathan Herrera</title></head>\",\"lxml\")\n",
    "print(soup)"
   ]
  },
  {
   "cell_type": "code",
   "execution_count": 5,
   "metadata": {},
   "outputs": [
    {
     "name": "stdout",
     "output_type": "stream",
     "text": [
      "<html><head><title>Laboratorio de Web Scraping - Jonathan Herrera</title></head></html>\n"
     ]
    }
   ],
   "source": [
    "soup = BeautifulSoup(\"<html><title>Laboratorio de Web Scraping - Jonathan Herrera</title></head>\",\"html\")\n",
    "print(soup)"
   ]
  },
  {
   "cell_type": "code",
   "execution_count": 6,
   "metadata": {},
   "outputs": [
    {
     "name": "stdout",
     "output_type": "stream",
     "text": [
      "Investing.com Español - Finanzas, Noticias y Bolsa de Valores\n"
     ]
    }
   ],
   "source": [
    "soup = BeautifulSoup(page.text, \"html.parser\")\n",
    "print(soup.title.string)"
   ]
  },
  {
   "cell_type": "code",
   "execution_count": 17,
   "metadata": {},
   "outputs": [],
   "source": [
    "import pandas as pd"
   ]
  },
  {
   "cell_type": "code",
   "execution_count": 20,
   "metadata": {},
   "outputs": [
    {
     "name": "stdout",
     "output_type": "stream",
     "text": [
      "Valor en 11.296,2 (USD): Bitcoin\n",
      "Valor en 372,98 (USD): Ethereum\n",
      "Valor en 0,27849 (USD): Ripple\n",
      "Valor en 0,9995 (USD): Tether\n",
      "Valor en 276,75 (USD): Bitcoin Cash\n",
      "[('11.296,2', 'Bitcoin'), ('372,98', 'Ethereum'), ('0,27849', 'Ripple'), ('0,9995', 'Tether'), ('276,75', 'Bitcoin Cash')]\n"
     ]
    }
   ],
   "source": [
    "tabla_crypto = soup.find(class_ = \"genTbl js-all-crypto-preview-table wideTbl elpTbl elp20 topCryptoHP\")\n",
    "tr_all = tabla_crypto.find_all(\"tr\")\n",
    "listaSave = []\n",
    "for sub_tr in tr_all:\n",
    "    Precio = sub_tr.find_all('td',{'class':\"left bold elp name cryptoName first js-currency-name\"})\n",
    "    Nombre = sub_tr.find_all('td',{'class':\"price js-currency-price\"})\n",
    "    if(Nombre!=[]):\n",
    "        print(\"Valor en {0} (USD): {1}\".format(Nombre[0].get_text(),Precio[0].get_text()))\n",
    "        listaSave.append((Nombre[0].get_text(),Precio[0].get_text()))\n",
    "print(listaSave)"
   ]
  },
  {
   "cell_type": "code",
   "execution_count": 22,
   "metadata": {},
   "outputs": [
    {
     "name": "stdout",
     "output_type": "stream",
     "text": [
      "     Nombre        Precio\n",
      "0  11.296,2       Bitcoin\n",
      "1    372,98      Ethereum\n",
      "2   0,27849        Ripple\n",
      "3    0,9995        Tether\n",
      "4    276,75  Bitcoin Cash\n"
     ]
    }
   ],
   "source": [
    "df = pd.DataFrame(listaSave,columns=['Nombre','Precio'])\n",
    "df.to_csv(\"criptomonedas.csv\",index=False,header=True)\n",
    "print(df)"
   ]
  }
 ],
 "metadata": {
  "kernelspec": {
   "display_name": "Python 3",
   "language": "python",
   "name": "python3"
  },
  "language_info": {
   "codemirror_mode": {
    "name": "ipython",
    "version": 3
   },
   "file_extension": ".py",
   "mimetype": "text/x-python",
   "name": "python",
   "nbconvert_exporter": "python",
   "pygments_lexer": "ipython3",
   "version": "3.7.6"
  }
 },
 "nbformat": 4,
 "nbformat_minor": 4
}
